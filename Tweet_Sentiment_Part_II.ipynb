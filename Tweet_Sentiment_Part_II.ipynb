{
  "nbformat": 4,
  "nbformat_minor": 0,
  "metadata": {
    "kernelspec": {
      "display_name": "Python 3",
      "language": "python",
      "name": "python3"
    },
    "language_info": {
      "codemirror_mode": {
        "name": "ipython",
        "version": 3
      },
      "file_extension": ".py",
      "mimetype": "text/x-python",
      "name": "python",
      "nbconvert_exporter": "python",
      "pygments_lexer": "ipython3",
      "version": "3.7.3"
    },
    "colab": {
      "name": "Tweet Sentiment Part II.ipynb",
      "provenance": [],
      "collapsed_sections": [],
      "machine_shape": "hm",
      "include_colab_link": true
    },
    "accelerator": "GPU"
  },
  "cells": [
    {
      "cell_type": "markdown",
      "metadata": {
        "id": "view-in-github",
        "colab_type": "text"
      },
      "source": [
        "<a href=\"https://colab.research.google.com/github/rbondili/Tweet_Sentiment_Analysis/blob/master/Tweet_Sentiment_Part_II.ipynb\" target=\"_parent\"><img src=\"https://colab.research.google.com/assets/colab-badge.svg\" alt=\"Open In Colab\"/></a>"
      ]
    },
    {
      "cell_type": "markdown",
      "metadata": {
        "id": "pfB0toaH3K3d",
        "colab_type": "text"
      },
      "source": [
        "<h1 align=center><font size=5>Tweet Sentiment Extraction Kaggel Competition</font></h1>"
      ]
    },
    {
      "cell_type": "markdown",
      "metadata": {
        "id": "WDTY5NDq3K3g",
        "colab_type": "text"
      },
      "source": [
        "### Table of contents\n",
        "\n",
        "- [Data](#data)\n",
        "- [ANN](#ann)\n",
        "- [CNN](#cnn)\n",
        "- [LSTM](#lstm)\n",
        "- [Bidirectional LSTM ](#bilstm)\n",
        "- [CNN LSTM](#cnnlstm)"
      ]
    },
    {
      "cell_type": "markdown",
      "metadata": {
        "id": "zR2v1Pw23K3i",
        "colab_type": "text"
      },
      "source": [
        "### Data <a id=\"data\"></a>\n",
        "\n",
        "#### About Tweet Sentiment details\n",
        "\n",
        "\"My ridiculous dog is amazing.\" [sentiment: positive]\n",
        "\n",
        "With all of the tweets circulating every second it is hard to tell whether the sentiment behind a specific tweet will impact a company, or a person's, brand for being viral (positive), or devastate profit because it strikes a negative tone. Capturing sentiment in language is important in these times where decisions and reactions are created and updated in seconds. But, which words actually lead to the sentiment description? In this competition you will need to pick out the part of the tweet (word or phrase) that reflects the sentiment.\n",
        "\n",
        "Help build your skills in this important area with this broad dataset of tweets. Work on your technique to grab a top spot in this competition. What words in tweets support a positive, negative, or neutral sentiment? How can you help make that determination using machine learning tools?"
      ]
    },
    {
      "cell_type": "code",
      "metadata": {
        "id": "OPfFAJIBDrF7",
        "colab_type": "code",
        "outputId": "68f1dbbe-3902-410e-cbcb-6c19343acdd5",
        "colab": {
          "base_uri": "https://localhost:8080/",
          "height": 72
        }
      },
      "source": [
        "import numpy as np # linear algebra\n",
        "import pandas as pd # data processing, CSV file I/O (e.g. pd.read_csv)\n",
        "import tensorflow as tf\n",
        "import matplotlib.pyplot as plt\n",
        "import seaborn as sns"
      ],
      "execution_count": 0,
      "outputs": [
        {
          "output_type": "stream",
          "text": [
            "/usr/local/lib/python3.6/dist-packages/statsmodels/tools/_testing.py:19: FutureWarning: pandas.util.testing is deprecated. Use the functions in the public API at pandas.testing instead.\n",
            "  import pandas.util.testing as tm\n"
          ],
          "name": "stderr"
        }
      ]
    },
    {
      "cell_type": "markdown",
      "metadata": {
        "id": "ufEkJXsz3K3k",
        "colab_type": "text"
      },
      "source": [
        "#### Load IMDB dataset\n",
        "\n",
        "&#x270d; Load IMDB moview reviews dataset in keras with having the top 5,000 most common words."
      ]
    },
    {
      "cell_type": "code",
      "metadata": {
        "id": "2d7vfLlKCh6X",
        "colab_type": "code",
        "outputId": "6732f3e7-f1af-4979-b696-59cdc6b624ce",
        "colab": {
          "base_uri": "https://localhost:8080/",
          "height": 125
        }
      },
      "source": [
        "from google.colab import drive\n",
        "drive.mount('/content/drive', force_remount=True)"
      ],
      "execution_count": 0,
      "outputs": [
        {
          "output_type": "stream",
          "text": [
            "Go to this URL in a browser: https://accounts.google.com/o/oauth2/auth?client_id=947318989803-6bn6qk8qdgf4n4g3pfee6491hc0brc4i.apps.googleusercontent.com&redirect_uri=urn%3aietf%3awg%3aoauth%3a2.0%3aoob&response_type=code&scope=email%20https%3a%2f%2fwww.googleapis.com%2fauth%2fdocs.test%20https%3a%2f%2fwww.googleapis.com%2fauth%2fdrive%20https%3a%2f%2fwww.googleapis.com%2fauth%2fdrive.photos.readonly%20https%3a%2f%2fwww.googleapis.com%2fauth%2fpeopleapi.readonly\n",
            "\n",
            "Enter your authorization code:\n",
            "··········\n",
            "Mounted at /content/drive\n"
          ],
          "name": "stdout"
        }
      ]
    },
    {
      "cell_type": "code",
      "metadata": {
        "id": "HV1I3GXCDCog",
        "colab_type": "code",
        "outputId": "8835ceba-d8e4-4b30-f7e4-9ba1448a2363",
        "colab": {
          "base_uri": "https://localhost:8080/",
          "height": 34
        }
      },
      "source": [
        "cd /content/drive/My\\ Drive/Colab\\ Notebooks/TweetSentiment/"
      ],
      "execution_count": 0,
      "outputs": [
        {
          "output_type": "stream",
          "text": [
            "/content/drive/My Drive/Colab Notebooks/TweetSentiment\n"
          ],
          "name": "stdout"
        }
      ]
    },
    {
      "cell_type": "code",
      "metadata": {
        "id": "2mCQaZT0DKZK",
        "colab_type": "code",
        "outputId": "9df2c459-976c-4675-c320-91e15e0f3cc3",
        "colab": {
          "base_uri": "https://localhost:8080/",
          "height": 52
        }
      },
      "source": [
        "ls"
      ],
      "execution_count": 0,
      "outputs": [
        {
          "output_type": "stream",
          "text": [
            " sample_submission.csv   train.csv\n",
            " test.csv               'Tweet Sentiment Extraction.ipynb'\n"
          ],
          "name": "stdout"
        }
      ]
    },
    {
      "cell_type": "markdown",
      "metadata": {
        "id": "ae1uiPpjfZG_",
        "colab_type": "text"
      },
      "source": [
        "## Loading the Dataset"
      ]
    },
    {
      "cell_type": "code",
      "metadata": {
        "id": "siWbnrHVDOIF",
        "colab_type": "code",
        "outputId": "4bf9ed37-5c11-424a-d206-1444417797fb",
        "colab": {
          "base_uri": "https://localhost:8080/",
          "height": 265
        }
      },
      "source": [
        "relative_path = '/content/drive/My Drive/Colab Notebooks/TweetSentiment/'\n",
        "\n",
        "train = pd.read_csv(relative_path + 'train.csv')\n",
        "test = pd.read_csv(relative_path + 'test.csv')\n",
        "\n",
        "print(train.head())\n",
        "print(test.head())"
      ],
      "execution_count": 0,
      "outputs": [
        {
          "output_type": "stream",
          "text": [
            "       textID  ... sentiment\n",
            "0  cb774db0d1  ...   neutral\n",
            "1  549e992a42  ...  negative\n",
            "2  088c60f138  ...  negative\n",
            "3  9642c003ef  ...  negative\n",
            "4  358bd9e861  ...  negative\n",
            "\n",
            "[5 rows x 4 columns]\n",
            "       textID                                               text sentiment\n",
            "0  f87dea47db  Last session of the day  http://twitpic.com/67ezh   neutral\n",
            "1  96d74cb729   Shanghai is also really exciting (precisely -...  positive\n",
            "2  eee518ae67  Recession hit Veronique Branquinho, she has to...  negative\n",
            "3  01082688c6                                        happy bday!  positive\n",
            "4  33987a8ee5             http://twitpic.com/4w75p - I like it!!  positive\n"
          ],
          "name": "stdout"
        }
      ]
    },
    {
      "cell_type": "code",
      "metadata": {
        "id": "HZvyMjLwD9E8",
        "colab_type": "code",
        "outputId": "f9ccfadb-c0e7-435e-9222-0357ee88272e",
        "colab": {
          "base_uri": "https://localhost:8080/",
          "height": 34
        }
      },
      "source": [
        "X_train = train.drop('sentiment', axis=1)\n",
        "y_train = train.sentiment\n",
        "X_test = test.drop('sentiment', axis=1)\n",
        "y_test = test.sentiment\n",
        "\n",
        "print(X_train.shape, y_train.shape, X_test.shape, y_test.shape)"
      ],
      "execution_count": 0,
      "outputs": [
        {
          "output_type": "stream",
          "text": [
            "(27481, 3) (27481,) (3534, 2) (3534,)\n"
          ],
          "name": "stdout"
        }
      ]
    },
    {
      "cell_type": "code",
      "metadata": {
        "id": "Y6ldwnQsEe34",
        "colab_type": "code",
        "outputId": "ed0ba289-52db-486b-cfd0-4ba247800e0d",
        "colab": {
          "base_uri": "https://localhost:8080/",
          "height": 123
        }
      },
      "source": [
        "import nltk\n",
        "nltk.download('wordnet')\n",
        "nltk.download('stopwords')\n",
        "nltk.download('punkt')\n",
        "\n",
        "import string\n",
        "from nltk.corpus import stopwords\n",
        "stopwords_list = stopwords.words('english')\n",
        "# Add or remove any additional stopwords\n",
        "stopwords_list.extend(['the'])\n",
        "#stopwords_list.remove('no')\n",
        "#stopwords_list.remove('not')\n",
        "\n",
        "from nltk.tokenize import word_tokenize\n",
        "\n",
        "from nltk.stem import WordNetLemmatizer\n",
        "lemmatizer = WordNetLemmatizer()\n",
        "\n",
        "from nltk.stem.porter import PorterStemmer\n",
        "stemmer = PorterStemmer()\n"
      ],
      "execution_count": 0,
      "outputs": [
        {
          "output_type": "stream",
          "text": [
            "[nltk_data] Downloading package wordnet to /root/nltk_data...\n",
            "[nltk_data]   Unzipping corpora/wordnet.zip.\n",
            "[nltk_data] Downloading package stopwords to /root/nltk_data...\n",
            "[nltk_data]   Unzipping corpora/stopwords.zip.\n",
            "[nltk_data] Downloading package punkt to /root/nltk_data...\n",
            "[nltk_data]   Unzipping tokenizers/punkt.zip.\n"
          ],
          "name": "stdout"
        }
      ]
    },
    {
      "cell_type": "code",
      "metadata": {
        "id": "L2Sn8chkIEbf",
        "colab_type": "code",
        "colab": {}
      },
      "source": [
        "def clean_text(text):\n",
        "   \n",
        "    # Convert text to all lowercase letters\n",
        "    text = text.lower()\n",
        "    \n",
        "    # Remove whitespaces\n",
        "    text = text.strip()\n",
        "    \n",
        "    # Tokenize text\n",
        "    tokens = word_tokenize(text)\n",
        "    \n",
        "    # Remove all tokens that are not alphabetic   r[A-Za-z#]\n",
        "    tokens = [token for token in tokens if token.isalpha()]\n",
        "        \n",
        "    # Remove stopwords\n",
        "    tokens = [token for token in tokens if token not in stopwords_list]\n",
        "    \n",
        "    # Remove tokens less than three letters\n",
        "    tokens = [token for token in tokens if len(token) > 2 ]\n",
        "    \n",
        "    # Remove punctuations\n",
        "    tokens = [token for token in tokens if token not in string.punctuation]\n",
        "    \n",
        "    # Lemmetize tokens\n",
        "    tokens = [ lemmatizer.lemmatize(token) for token in tokens ]\n",
        "    \n",
        "    # Stem tokens\n",
        "    #tokens = \n",
        "    \n",
        "    # Re-create text from filtered tokens, so that vectorizer won't complain\n",
        "    text = ' '.join(tokens)\n",
        "    return text"
      ],
      "execution_count": 0,
      "outputs": []
    },
    {
      "cell_type": "code",
      "metadata": {
        "id": "anLe3OksISDh",
        "colab_type": "code",
        "outputId": "e6f2b072-3d97-482a-bb8e-444128e87e88",
        "colab": {
          "base_uri": "https://localhost:8080/",
          "height": 34
        }
      },
      "source": [
        "X_train.selected_text[0]"
      ],
      "execution_count": 0,
      "outputs": [
        {
          "output_type": "execute_result",
          "data": {
            "text/plain": [
              "'I`d have responded, if I were going'"
            ]
          },
          "metadata": {
            "tags": []
          },
          "execution_count": 11
        }
      ]
    },
    {
      "cell_type": "code",
      "metadata": {
        "id": "X9kIco_7IGBS",
        "colab_type": "code",
        "outputId": "2d72bd39-a955-4981-f65a-acbf15ea4d52",
        "colab": {
          "base_uri": "https://localhost:8080/",
          "height": 34
        }
      },
      "source": [
        "clean_text(X_train.text[0])"
      ],
      "execution_count": 0,
      "outputs": [
        {
          "output_type": "execute_result",
          "data": {
            "text/plain": [
              "'responded going'"
            ]
          },
          "metadata": {
            "tags": []
          },
          "execution_count": 12
        }
      ]
    },
    {
      "cell_type": "code",
      "metadata": {
        "id": "nVDfPYG3LNOl",
        "colab_type": "code",
        "colab": {}
      },
      "source": [
        " X_train.text =  X_train.text.astype(str)\n",
        " X_test.text =  X_test.text.astype(str)"
      ],
      "execution_count": 0,
      "outputs": []
    },
    {
      "cell_type": "code",
      "metadata": {
        "id": "L8ZzF5LIIeZO",
        "colab_type": "code",
        "colab": {}
      },
      "source": [
        "X_train_clean = X_train.text.apply(lambda x: clean_text(x))\n",
        "X_test_clean = X_test.text.apply(lambda x: clean_text(x))"
      ],
      "execution_count": 0,
      "outputs": []
    },
    {
      "cell_type": "code",
      "metadata": {
        "id": "gGzSCClDLaNQ",
        "colab_type": "code",
        "outputId": "3dd9f0ad-4ce6-4e1f-ed6a-46292cfdd726",
        "colab": {
          "base_uri": "https://localhost:8080/",
          "height": 34
        }
      },
      "source": [
        "print(len(X_train), len(X_test), len(X_train_clean), len(X_test_clean))"
      ],
      "execution_count": 0,
      "outputs": [
        {
          "output_type": "stream",
          "text": [
            "27481 3534 27481 3534\n"
          ],
          "name": "stdout"
        }
      ]
    },
    {
      "cell_type": "code",
      "metadata": {
        "id": "aIgvtJxMLdWZ",
        "colab_type": "code",
        "outputId": "84a5cf63-0922-472f-a809-49dd7473c1cf",
        "colab": {
          "base_uri": "https://localhost:8080/",
          "height": 123
        }
      },
      "source": [
        "X_train_clean[:5]"
      ],
      "execution_count": 0,
      "outputs": [
        {
          "output_type": "execute_result",
          "data": {
            "text/plain": [
              "0                   responded going\n",
              "1           sooo sad miss san diego\n",
              "2                      bos bullying\n",
              "3             interview leave alone\n",
              "4    son put release already bought\n",
              "Name: text, dtype: object"
            ]
          },
          "metadata": {
            "tags": []
          },
          "execution_count": 16
        }
      ]
    },
    {
      "cell_type": "code",
      "metadata": {
        "id": "w4RNFqS7nQEk",
        "colab_type": "code",
        "colab": {}
      },
      "source": [
        "from tensorflow.keras.preprocessing.text import Tokenizer\n",
        "tokenizer = Tokenizer(num_words = 350, oov_token = '<OOV>') \n",
        "tokenizer.fit_on_texts(X_train_clean)\n",
        "X_train_seq = tokenizer.texts_to_sequences(X_train_clean)\n",
        "X_test_seq = tokenizer.texts_to_sequences(X_test_clean)"
      ],
      "execution_count": 0,
      "outputs": []
    },
    {
      "cell_type": "code",
      "metadata": {
        "id": "Ji3HFrCx3K34",
        "colab_type": "code",
        "outputId": "5b6fd50b-f280-4367-d09f-ac83ec856ab9",
        "colab": {
          "base_uri": "https://localhost:8080/",
          "height": 70
        }
      },
      "source": [
        "from keras.preprocessing.sequence import pad_sequences\n",
        "\n",
        "max_length = 350 \n",
        "\n",
        "X_train_pad = pad_sequences(X_train_seq, maxlen=max_length, padding='post', truncating='post')\n",
        "X_test_pad = pad_sequences(X_test_seq, maxlen=max_length, padding='post', truncating='post')\n",
        "\n",
        "print('X_train_pad shape:', X_train_pad.shape) # (n_samples, sequence_length)\n",
        "print('X_test_pad shape:', X_test_pad.shape)"
      ],
      "execution_count": 0,
      "outputs": [
        {
          "output_type": "stream",
          "text": [
            "Using TensorFlow backend.\n"
          ],
          "name": "stderr"
        },
        {
          "output_type": "stream",
          "text": [
            "X_train_pad shape: (27481, 350)\n",
            "X_test_pad shape: (3534, 350)\n"
          ],
          "name": "stdout"
        }
      ]
    },
    {
      "cell_type": "code",
      "metadata": {
        "id": "-Ere0x383K38",
        "colab_type": "code",
        "outputId": "3890f080-95cc-4183-8982-a9a0e2bf6a54",
        "colab": {
          "base_uri": "https://localhost:8080/",
          "height": 70
        }
      },
      "source": [
        "from sklearn.preprocessing import LabelEncoder\n",
        "out_encoder = LabelEncoder()\n",
        "out_encoder.fit(y_train)\n",
        "y_train_pad = out_encoder.transform(y_train)\n",
        "y_test_pad = out_encoder.transform(y_test)\n",
        "\n",
        "print(out_encoder.classes_)\n",
        "print('y_train_pad shape:', y_train_pad.shape) # (n_samples, sequence_length)\n",
        "print('y_test_pad shape:', y_test_pad.shape)"
      ],
      "execution_count": 0,
      "outputs": [
        {
          "output_type": "stream",
          "text": [
            "['negative' 'neutral' 'positive']\n",
            "y_train_pad shape: (27481,)\n",
            "y_test_pad shape: (3534,)\n"
          ],
          "name": "stdout"
        }
      ]
    },
    {
      "cell_type": "code",
      "metadata": {
        "id": "p9Sje2SZ3K4X",
        "colab_type": "code",
        "colab": {}
      },
      "source": [
        "import matplotlib.pyplot as plt\n",
        "%matplotlib inline\n",
        "\n",
        "def plot_model(history):\n",
        "    loss_train = history.history['loss']\n",
        "    loss_vald = history.history['val_loss']\n",
        "\n",
        "    acc_train = history.history['accuracy']\n",
        "    acc_vald = history.history['val_accuracy']\n",
        "\n",
        "    epochs = range(1, len(loss_train)+1)\n",
        "\n",
        "    plt.figure(figsize=(10, 5))\n",
        "    plt.subplot(1,2,1)\n",
        "    plt.plot(epochs, loss_train,'r')\n",
        "    plt.plot(epochs, loss_vald,'b')\n",
        "    plt.ylabel('Loss')\n",
        "    plt.xlabel('Epoch')\n",
        "    plt.legend(['Training', 'Validation'], loc='best')\n",
        "\n",
        "    plt.subplot(1,2,2)\n",
        "    plt.plot(epochs, acc_train,'r')\n",
        "    plt.plot(epochs, acc_vald,'b')\n",
        "    plt.ylabel('Accuracy')\n",
        "    plt.xlabel('Epoch')\n",
        "    plt.legend(['Training', 'Validation'], loc='best')\n",
        "    plt.show()\n",
        "    "
      ],
      "execution_count": 0,
      "outputs": []
    },
    {
      "cell_type": "markdown",
      "metadata": {
        "id": "RvaTXLj_3K3-",
        "colab_type": "text"
      },
      "source": [
        "###  ANN <a id=\"ann\"></a>"
      ]
    },
    {
      "cell_type": "markdown",
      "metadata": {
        "id": "6ADgPymT3K3_",
        "colab_type": "text"
      },
      "source": [
        "&#x270d; Create the model."
      ]
    },
    {
      "cell_type": "code",
      "metadata": {
        "id": "5V4peeUr3K4A",
        "colab_type": "code",
        "outputId": "9ac0e998-61af-44dc-fd6e-e5de949c747f",
        "colab": {
          "base_uri": "https://localhost:8080/",
          "height": 301
        }
      },
      "source": [
        "from keras.models import Sequential\n",
        "from keras.layers import Embedding, Flatten, Dense\n",
        "\n",
        "embedding_dim = 16\n",
        "vocab_size = 350\n",
        "\n",
        "model = Sequential()\n",
        "\n",
        "model.add(Embedding(vocab_size, embedding_dim, input_length= max_length))\n",
        "model.add(Flatten())\n",
        "\n",
        "model.add(Dense(350, activation='relu'))\n",
        "\n",
        "model.add(Dense(3, activation='softmax'))\n",
        "\n",
        "model.summary()"
      ],
      "execution_count": 0,
      "outputs": [
        {
          "output_type": "stream",
          "text": [
            "Model: \"sequential_1\"\n",
            "_________________________________________________________________\n",
            "Layer (type)                 Output Shape              Param #   \n",
            "=================================================================\n",
            "embedding_1 (Embedding)      (None, 350, 16)           5600      \n",
            "_________________________________________________________________\n",
            "flatten_1 (Flatten)          (None, 5600)              0         \n",
            "_________________________________________________________________\n",
            "dense_1 (Dense)              (None, 350)               1960350   \n",
            "_________________________________________________________________\n",
            "dense_2 (Dense)              (None, 3)                 1053      \n",
            "=================================================================\n",
            "Total params: 1,967,003\n",
            "Trainable params: 1,967,003\n",
            "Non-trainable params: 0\n",
            "_________________________________________________________________\n"
          ],
          "name": "stdout"
        }
      ]
    },
    {
      "cell_type": "markdown",
      "metadata": {
        "id": "lliI6AG33K4D",
        "colab_type": "text"
      },
      "source": [
        "&#x270d; Compile and train the model. Consider 10% of training set for validation purpose."
      ]
    },
    {
      "cell_type": "code",
      "metadata": {
        "id": "P4D5snTA3K4F",
        "colab_type": "code",
        "outputId": "775d6edc-0b30-48f5-c102-2e7a48769213",
        "colab": {
          "base_uri": "https://localhost:8080/",
          "height": 1000
        }
      },
      "source": [
        "from keras.optimizers import adam\n",
        "model.compile(loss= 'sparse_categorical_crossentropy',\n",
        "              optimizer= 'adam',\n",
        "              metrics=['accuracy'] )\n",
        "\n",
        "batch_size = 32\n",
        "epochs = 50\n",
        "\n",
        "history = model.fit(X_train_pad, y_train_pad, epochs=epochs, batch_size=batch_size, validation_split=0.10)  "
      ],
      "execution_count": 0,
      "outputs": [
        {
          "output_type": "stream",
          "text": [
            "/usr/local/lib/python3.6/dist-packages/tensorflow/python/framework/indexed_slices.py:434: UserWarning: Converting sparse IndexedSlices to a dense Tensor of unknown shape. This may consume a large amount of memory.\n",
            "  \"Converting sparse IndexedSlices to a dense Tensor of unknown shape. \"\n"
          ],
          "name": "stderr"
        },
        {
          "output_type": "stream",
          "text": [
            "Train on 24732 samples, validate on 2749 samples\n",
            "Epoch 1/50\n",
            "24732/24732 [==============================] - 4s 161us/step - loss: 0.8957 - accuracy: 0.5814 - val_loss: 0.8098 - val_accuracy: 0.6479\n",
            "Epoch 2/50\n",
            "24732/24732 [==============================] - 2s 92us/step - loss: 0.7850 - accuracy: 0.6660 - val_loss: 0.8017 - val_accuracy: 0.6595\n",
            "Epoch 3/50\n",
            "24732/24732 [==============================] - 2s 92us/step - loss: 0.7683 - accuracy: 0.6732 - val_loss: 0.7897 - val_accuracy: 0.6591\n",
            "Epoch 4/50\n",
            "24732/24732 [==============================] - 2s 91us/step - loss: 0.7520 - accuracy: 0.6798 - val_loss: 0.8138 - val_accuracy: 0.6260\n",
            "Epoch 5/50\n",
            "24732/24732 [==============================] - 2s 92us/step - loss: 0.7348 - accuracy: 0.6876 - val_loss: 0.8041 - val_accuracy: 0.6653\n",
            "Epoch 6/50\n",
            "24732/24732 [==============================] - 2s 93us/step - loss: 0.7196 - accuracy: 0.6950 - val_loss: 0.8119 - val_accuracy: 0.6541\n",
            "Epoch 7/50\n",
            "24732/24732 [==============================] - 2s 95us/step - loss: 0.7037 - accuracy: 0.7005 - val_loss: 0.8054 - val_accuracy: 0.6588\n",
            "Epoch 8/50\n",
            "24732/24732 [==============================] - 2s 93us/step - loss: 0.6895 - accuracy: 0.7081 - val_loss: 0.8332 - val_accuracy: 0.6391\n",
            "Epoch 9/50\n",
            "24732/24732 [==============================] - 2s 93us/step - loss: 0.6731 - accuracy: 0.7135 - val_loss: 0.8400 - val_accuracy: 0.6504\n",
            "Epoch 10/50\n",
            "24732/24732 [==============================] - 2s 94us/step - loss: 0.6582 - accuracy: 0.7224 - val_loss: 0.8752 - val_accuracy: 0.6250\n",
            "Epoch 11/50\n",
            "24732/24732 [==============================] - 2s 91us/step - loss: 0.6420 - accuracy: 0.7308 - val_loss: 0.8680 - val_accuracy: 0.6410\n",
            "Epoch 12/50\n",
            "24732/24732 [==============================] - 2s 92us/step - loss: 0.6263 - accuracy: 0.7371 - val_loss: 0.8948 - val_accuracy: 0.6279\n",
            "Epoch 13/50\n",
            "24732/24732 [==============================] - 2s 92us/step - loss: 0.6083 - accuracy: 0.7447 - val_loss: 0.9115 - val_accuracy: 0.6308\n",
            "Epoch 14/50\n",
            "24732/24732 [==============================] - 2s 91us/step - loss: 0.5899 - accuracy: 0.7522 - val_loss: 0.9282 - val_accuracy: 0.6319\n",
            "Epoch 15/50\n",
            "24732/24732 [==============================] - 2s 91us/step - loss: 0.5729 - accuracy: 0.7615 - val_loss: 0.9753 - val_accuracy: 0.6224\n",
            "Epoch 16/50\n",
            "24732/24732 [==============================] - 2s 92us/step - loss: 0.5525 - accuracy: 0.7697 - val_loss: 1.0292 - val_accuracy: 0.6184\n",
            "Epoch 17/50\n",
            "24732/24732 [==============================] - 2s 91us/step - loss: 0.5318 - accuracy: 0.7821 - val_loss: 1.0068 - val_accuracy: 0.6199\n",
            "Epoch 18/50\n",
            "24732/24732 [==============================] - 2s 92us/step - loss: 0.5106 - accuracy: 0.7908 - val_loss: 1.0637 - val_accuracy: 0.6290\n",
            "Epoch 19/50\n",
            "24732/24732 [==============================] - 2s 92us/step - loss: 0.4911 - accuracy: 0.7997 - val_loss: 1.1320 - val_accuracy: 0.6162\n",
            "Epoch 20/50\n",
            "24732/24732 [==============================] - 2s 92us/step - loss: 0.4680 - accuracy: 0.8113 - val_loss: 1.1993 - val_accuracy: 0.6057\n",
            "Epoch 21/50\n",
            "24732/24732 [==============================] - 2s 92us/step - loss: 0.4458 - accuracy: 0.8214 - val_loss: 1.1946 - val_accuracy: 0.6231\n",
            "Epoch 22/50\n",
            "24732/24732 [==============================] - 2s 92us/step - loss: 0.4244 - accuracy: 0.8293 - val_loss: 1.3120 - val_accuracy: 0.6071\n",
            "Epoch 23/50\n",
            "24732/24732 [==============================] - 2s 90us/step - loss: 0.4049 - accuracy: 0.8385 - val_loss: 1.3922 - val_accuracy: 0.6119\n",
            "Epoch 24/50\n",
            "24732/24732 [==============================] - 2s 90us/step - loss: 0.3859 - accuracy: 0.8465 - val_loss: 1.4146 - val_accuracy: 0.6082\n",
            "Epoch 25/50\n",
            "24732/24732 [==============================] - 2s 91us/step - loss: 0.3657 - accuracy: 0.8552 - val_loss: 1.4946 - val_accuracy: 0.6144\n",
            "Epoch 26/50\n",
            "24732/24732 [==============================] - 2s 90us/step - loss: 0.3463 - accuracy: 0.8653 - val_loss: 1.5390 - val_accuracy: 0.6104\n",
            "Epoch 27/50\n",
            "24732/24732 [==============================] - 2s 95us/step - loss: 0.3274 - accuracy: 0.8730 - val_loss: 1.6552 - val_accuracy: 0.6039\n",
            "Epoch 28/50\n",
            "24732/24732 [==============================] - 3s 101us/step - loss: 0.3105 - accuracy: 0.8806 - val_loss: 1.7515 - val_accuracy: 0.5966\n",
            "Epoch 29/50\n",
            "24732/24732 [==============================] - 2s 100us/step - loss: 0.2968 - accuracy: 0.8849 - val_loss: 1.7926 - val_accuracy: 0.5940\n",
            "Epoch 30/50\n",
            "24732/24732 [==============================] - 2s 99us/step - loss: 0.2824 - accuracy: 0.8932 - val_loss: 1.8631 - val_accuracy: 0.5999\n",
            "Epoch 31/50\n",
            "24732/24732 [==============================] - 2s 96us/step - loss: 0.2695 - accuracy: 0.8982 - val_loss: 1.9756 - val_accuracy: 0.5951\n",
            "Epoch 32/50\n",
            "24732/24732 [==============================] - 2s 90us/step - loss: 0.2580 - accuracy: 0.9026 - val_loss: 2.1310 - val_accuracy: 0.5868\n",
            "Epoch 33/50\n",
            "24732/24732 [==============================] - 2s 90us/step - loss: 0.2485 - accuracy: 0.9073 - val_loss: 2.2028 - val_accuracy: 0.5962\n",
            "Epoch 34/50\n",
            "24732/24732 [==============================] - 2s 92us/step - loss: 0.2388 - accuracy: 0.9103 - val_loss: 2.1792 - val_accuracy: 0.5908\n",
            "Epoch 35/50\n",
            "24732/24732 [==============================] - 2s 91us/step - loss: 0.2317 - accuracy: 0.9124 - val_loss: 2.3085 - val_accuracy: 0.5984\n",
            "Epoch 36/50\n",
            "24732/24732 [==============================] - 2s 91us/step - loss: 0.2238 - accuracy: 0.9151 - val_loss: 2.4355 - val_accuracy: 0.5969\n",
            "Epoch 37/50\n",
            "24732/24732 [==============================] - 2s 91us/step - loss: 0.2163 - accuracy: 0.9184 - val_loss: 2.6058 - val_accuracy: 0.5882\n",
            "Epoch 38/50\n",
            "24732/24732 [==============================] - 2s 92us/step - loss: 0.2108 - accuracy: 0.9197 - val_loss: 2.6586 - val_accuracy: 0.5791\n",
            "Epoch 39/50\n",
            "24732/24732 [==============================] - 2s 91us/step - loss: 0.2041 - accuracy: 0.9227 - val_loss: 2.8009 - val_accuracy: 0.5868\n",
            "Epoch 40/50\n",
            "24732/24732 [==============================] - 2s 91us/step - loss: 0.1988 - accuracy: 0.9237 - val_loss: 2.9031 - val_accuracy: 0.5911\n",
            "Epoch 41/50\n",
            "24732/24732 [==============================] - 2s 92us/step - loss: 0.1971 - accuracy: 0.9250 - val_loss: 2.7748 - val_accuracy: 0.5944\n",
            "Epoch 42/50\n",
            "24732/24732 [==============================] - 2s 93us/step - loss: 0.1936 - accuracy: 0.9256 - val_loss: 2.9356 - val_accuracy: 0.5919\n",
            "Epoch 43/50\n",
            "24732/24732 [==============================] - 2s 91us/step - loss: 0.1832 - accuracy: 0.9305 - val_loss: 3.1101 - val_accuracy: 0.5926\n",
            "Epoch 44/50\n",
            "24732/24732 [==============================] - 2s 92us/step - loss: 0.1839 - accuracy: 0.9309 - val_loss: 3.3250 - val_accuracy: 0.5853\n",
            "Epoch 45/50\n",
            "24732/24732 [==============================] - 2s 93us/step - loss: 0.1778 - accuracy: 0.9320 - val_loss: 3.2907 - val_accuracy: 0.5817\n",
            "Epoch 46/50\n",
            "24732/24732 [==============================] - 2s 91us/step - loss: 0.1791 - accuracy: 0.9307 - val_loss: 3.3081 - val_accuracy: 0.5838\n",
            "Epoch 47/50\n",
            "24732/24732 [==============================] - 2s 91us/step - loss: 0.1750 - accuracy: 0.9325 - val_loss: 3.4096 - val_accuracy: 0.5882\n",
            "Epoch 48/50\n",
            "24732/24732 [==============================] - 2s 91us/step - loss: 0.1726 - accuracy: 0.9329 - val_loss: 3.5766 - val_accuracy: 0.5835\n",
            "Epoch 49/50\n",
            "24732/24732 [==============================] - 2s 91us/step - loss: 0.1670 - accuracy: 0.9356 - val_loss: 3.7091 - val_accuracy: 0.5835\n",
            "Epoch 50/50\n",
            "24732/24732 [==============================] - 2s 91us/step - loss: 0.1736 - accuracy: 0.9330 - val_loss: 3.6253 - val_accuracy: 0.5864\n"
          ],
          "name": "stdout"
        }
      ]
    },
    {
      "cell_type": "markdown",
      "metadata": {
        "id": "YHwRxJTS3K4O",
        "colab_type": "text"
      },
      "source": [
        "&#x270d; Evaluate the model over test set."
      ]
    },
    {
      "cell_type": "code",
      "metadata": {
        "id": "9Pz0hycj3K4Q",
        "colab_type": "code",
        "outputId": "401e8d2b-c15f-41c5-f465-c6e3f7d7c503",
        "colab": {
          "base_uri": "https://localhost:8080/",
          "height": 70
        }
      },
      "source": [
        "score, acc = model.evaluate(X_test_pad, y_test_pad)\n",
        "print('Test score:', score)\n",
        "print('Test accuracy:', acc)"
      ],
      "execution_count": 0,
      "outputs": [
        {
          "output_type": "stream",
          "text": [
            "3534/3534 [==============================] - 0s 43us/step\n",
            "Test score: 3.457598449283896\n",
            "Test accuracy: 0.583757758140564\n"
          ],
          "name": "stdout"
        }
      ]
    },
    {
      "cell_type": "markdown",
      "metadata": {
        "id": "-knHHRw-3K4W",
        "colab_type": "text"
      },
      "source": [
        "&#x270d; Plot loss and accuracy metrics versus training epochs for both training and validation sets."
      ]
    },
    {
      "cell_type": "code",
      "metadata": {
        "id": "dTNvvwr0yGoc",
        "colab_type": "code",
        "outputId": "79c96449-25a9-437c-ec9a-5a7c616ff965",
        "colab": {
          "base_uri": "https://localhost:8080/",
          "height": 334
        }
      },
      "source": [
        "plot_model(history)"
      ],
      "execution_count": 0,
      "outputs": [
        {
          "output_type": "display_data",
          "data": {
            "image/png": "[encoded data removed]",
            "text/plain": [
              "<Figure size 720x360 with 2 Axes>"
            ]
          },
          "metadata": {
            "tags": [],
            "needs_background": "light"
          }
        }
      ]
    },
    {
      "cell_type": "markdown",
      "metadata": {
        "id": "Bs44bd7K3K4t",
        "colab_type": "text"
      },
      "source": [
        "###  CNN <a id=\"cnn\"></a>"
      ]
    },
    {
      "cell_type": "code",
      "metadata": {
        "id": "4qFVflrN3K4t",
        "colab_type": "code",
        "outputId": "bf5d0ca8-7cd2-4368-d5df-0e79ab1895dc",
        "colab": {
          "base_uri": "https://localhost:8080/",
          "height": 407
        }
      },
      "source": [
        "from keras.models import Sequential\n",
        "from keras.layers import Embedding, Dropout, Conv1D, GlobalMaxPooling1D, Dense\n",
        "\n",
        "embedding_dim = 32\n",
        "vocab_size = 350\n",
        "\n",
        "model = Sequential()\n",
        "\n",
        "model.add(Embedding(vocab_size, embedding_dim, input_length= max_length))\n",
        "model.add(Dropout(0.2))\n",
        "\n",
        "model.add(Conv1D(filters = 128, kernel_size = 5, strides= 1, padding='same', activation= 'relu'))\n",
        "\n",
        "model.add(GlobalMaxPooling1D())\n",
        "\n",
        "model.add(Dense(units= 256, activation= 'relu'))\n",
        "model.add(Dropout(0.2))\n",
        "\n",
        "model.add(Dense(3, activation='softmax'))\n",
        "\n",
        "model.summary()"
      ],
      "execution_count": 0,
      "outputs": [
        {
          "output_type": "stream",
          "text": [
            "Model: \"sequential_2\"\n",
            "_________________________________________________________________\n",
            "Layer (type)                 Output Shape              Param #   \n",
            "=================================================================\n",
            "embedding_2 (Embedding)      (None, 350, 32)           11200     \n",
            "_________________________________________________________________\n",
            "dropout_1 (Dropout)          (None, 350, 32)           0         \n",
            "_________________________________________________________________\n",
            "conv1d_1 (Conv1D)            (None, 350, 128)          20608     \n",
            "_________________________________________________________________\n",
            "global_max_pooling1d_1 (Glob (None, 128)               0         \n",
            "_________________________________________________________________\n",
            "dense_3 (Dense)              (None, 256)               33024     \n",
            "_________________________________________________________________\n",
            "dropout_2 (Dropout)          (None, 256)               0         \n",
            "_________________________________________________________________\n",
            "dense_4 (Dense)              (None, 3)                 771       \n",
            "=================================================================\n",
            "Total params: 65,603\n",
            "Trainable params: 65,603\n",
            "Non-trainable params: 0\n",
            "_________________________________________________________________\n"
          ],
          "name": "stdout"
        }
      ]
    },
    {
      "cell_type": "code",
      "metadata": {
        "id": "srpsyDc_3K4x",
        "colab_type": "code",
        "outputId": "6d68af46-b44e-4279-d4ef-0947b501cc37",
        "colab": {
          "base_uri": "https://localhost:8080/",
          "height": 1000
        }
      },
      "source": [
        "from keras.optimizers import adam\n",
        "model.compile(loss= 'sparse_categorical_crossentropy',\n",
        "              optimizer= 'adam',\n",
        "              metrics=['accuracy'] )\n",
        "\n",
        "batch_size = 32\n",
        "epochs = 30\n",
        "\n",
        "history = model.fit(X_train_pad, y_train_pad, epochs=epochs, batch_size=batch_size, validation_split=0.10)  "
      ],
      "execution_count": 0,
      "outputs": [
        {
          "output_type": "stream",
          "text": [
            "/usr/local/lib/python3.6/dist-packages/tensorflow/python/framework/indexed_slices.py:434: UserWarning: Converting sparse IndexedSlices to a dense Tensor of unknown shape. This may consume a large amount of memory.\n",
            "  \"Converting sparse IndexedSlices to a dense Tensor of unknown shape. \"\n"
          ],
          "name": "stderr"
        },
        {
          "output_type": "stream",
          "text": [
            "Train on 24732 samples, validate on 2749 samples\n",
            "Epoch 1/30\n",
            "24732/24732 [==============================] - 7s 301us/step - loss: 0.8644 - accuracy: 0.6080 - val_loss: 0.7926 - val_accuracy: 0.6708\n",
            "Epoch 2/30\n",
            "24732/24732 [==============================] - 3s 118us/step - loss: 0.7785 - accuracy: 0.6695 - val_loss: 0.7869 - val_accuracy: 0.6653\n",
            "Epoch 3/30\n",
            "24732/24732 [==============================] - 3s 118us/step - loss: 0.7614 - accuracy: 0.6772 - val_loss: 0.7812 - val_accuracy: 0.6635\n",
            "Epoch 4/30\n",
            "24732/24732 [==============================] - 3s 120us/step - loss: 0.7480 - accuracy: 0.6807 - val_loss: 0.7869 - val_accuracy: 0.6610\n",
            "Epoch 5/30\n",
            "24732/24732 [==============================] - 3s 120us/step - loss: 0.7343 - accuracy: 0.6859 - val_loss: 0.7810 - val_accuracy: 0.6650\n",
            "Epoch 6/30\n",
            "24732/24732 [==============================] - 3s 119us/step - loss: 0.7217 - accuracy: 0.6907 - val_loss: 0.7946 - val_accuracy: 0.6635\n",
            "Epoch 7/30\n",
            "24732/24732 [==============================] - 3s 117us/step - loss: 0.7094 - accuracy: 0.6980 - val_loss: 0.8113 - val_accuracy: 0.6526\n",
            "Epoch 8/30\n",
            "24732/24732 [==============================] - 3s 116us/step - loss: 0.6924 - accuracy: 0.7044 - val_loss: 0.8248 - val_accuracy: 0.6551\n",
            "Epoch 9/30\n",
            "24732/24732 [==============================] - 3s 117us/step - loss: 0.6794 - accuracy: 0.7101 - val_loss: 0.8086 - val_accuracy: 0.6599\n",
            "Epoch 10/30\n",
            "24732/24732 [==============================] - 3s 119us/step - loss: 0.6651 - accuracy: 0.7182 - val_loss: 0.8150 - val_accuracy: 0.6551\n",
            "Epoch 11/30\n",
            "24732/24732 [==============================] - 3s 117us/step - loss: 0.6553 - accuracy: 0.7208 - val_loss: 0.8218 - val_accuracy: 0.6544\n",
            "Epoch 12/30\n",
            "24732/24732 [==============================] - 3s 117us/step - loss: 0.6426 - accuracy: 0.7274 - val_loss: 0.8375 - val_accuracy: 0.6501\n",
            "Epoch 13/30\n",
            "24732/24732 [==============================] - 3s 117us/step - loss: 0.6268 - accuracy: 0.7311 - val_loss: 0.8436 - val_accuracy: 0.6548\n",
            "Epoch 14/30\n",
            "24732/24732 [==============================] - 3s 117us/step - loss: 0.6193 - accuracy: 0.7365 - val_loss: 0.8633 - val_accuracy: 0.6570\n",
            "Epoch 15/30\n",
            "24732/24732 [==============================] - 3s 116us/step - loss: 0.6089 - accuracy: 0.7438 - val_loss: 0.8801 - val_accuracy: 0.6493\n",
            "Epoch 16/30\n",
            "24732/24732 [==============================] - 3s 116us/step - loss: 0.5997 - accuracy: 0.7441 - val_loss: 0.8800 - val_accuracy: 0.6511\n",
            "Epoch 17/30\n",
            "24732/24732 [==============================] - 3s 117us/step - loss: 0.5898 - accuracy: 0.7511 - val_loss: 0.9125 - val_accuracy: 0.6471\n",
            "Epoch 18/30\n",
            "24732/24732 [==============================] - 3s 117us/step - loss: 0.5846 - accuracy: 0.7511 - val_loss: 0.9266 - val_accuracy: 0.6370\n",
            "Epoch 19/30\n",
            "24732/24732 [==============================] - 3s 116us/step - loss: 0.5768 - accuracy: 0.7562 - val_loss: 0.9114 - val_accuracy: 0.6333\n",
            "Epoch 20/30\n",
            "24732/24732 [==============================] - 3s 117us/step - loss: 0.5724 - accuracy: 0.7567 - val_loss: 0.9297 - val_accuracy: 0.6344\n",
            "Epoch 21/30\n",
            "24732/24732 [==============================] - 3s 117us/step - loss: 0.5657 - accuracy: 0.7601 - val_loss: 0.9334 - val_accuracy: 0.6384\n",
            "Epoch 22/30\n",
            "24732/24732 [==============================] - 3s 118us/step - loss: 0.5578 - accuracy: 0.7671 - val_loss: 0.9467 - val_accuracy: 0.6439\n",
            "Epoch 23/30\n",
            "24732/24732 [==============================] - 3s 117us/step - loss: 0.5523 - accuracy: 0.7679 - val_loss: 0.9407 - val_accuracy: 0.6464\n",
            "Epoch 24/30\n",
            "24732/24732 [==============================] - 3s 117us/step - loss: 0.5500 - accuracy: 0.7671 - val_loss: 0.9572 - val_accuracy: 0.6391\n",
            "Epoch 25/30\n",
            "24732/24732 [==============================] - 3s 119us/step - loss: 0.5430 - accuracy: 0.7718 - val_loss: 0.9691 - val_accuracy: 0.6391\n",
            "Epoch 26/30\n",
            "24732/24732 [==============================] - 3s 118us/step - loss: 0.5352 - accuracy: 0.7730 - val_loss: 0.9799 - val_accuracy: 0.6446\n",
            "Epoch 27/30\n",
            "24732/24732 [==============================] - 3s 118us/step - loss: 0.5363 - accuracy: 0.7735 - val_loss: 0.9679 - val_accuracy: 0.6381\n",
            "Epoch 28/30\n",
            "24732/24732 [==============================] - 3s 118us/step - loss: 0.5300 - accuracy: 0.7750 - val_loss: 0.9908 - val_accuracy: 0.6340\n",
            "Epoch 29/30\n",
            "24732/24732 [==============================] - 3s 118us/step - loss: 0.5287 - accuracy: 0.7756 - val_loss: 0.9654 - val_accuracy: 0.6224\n",
            "Epoch 30/30\n",
            "24732/24732 [==============================] - 3s 118us/step - loss: 0.5218 - accuracy: 0.7778 - val_loss: 1.0517 - val_accuracy: 0.6464\n"
          ],
          "name": "stdout"
        }
      ]
    },
    {
      "cell_type": "code",
      "metadata": {
        "id": "SkXoIw123K40",
        "colab_type": "code",
        "outputId": "5dc655b6-5758-4b6f-ff3d-713da2533359",
        "colab": {
          "base_uri": "https://localhost:8080/",
          "height": 334
        }
      },
      "source": [
        "plot_model(history)"
      ],
      "execution_count": 0,
      "outputs": [
        {
          "output_type": "display_data",
          "data": {
            "image/png": "[encoded data removed]",
            "text/plain": [
              "<Figure size 720x360 with 2 Axes>"
            ]
          },
          "metadata": {
            "tags": [],
            "needs_background": "light"
          }
        }
      ]
    },
    {
      "cell_type": "code",
      "metadata": {
        "id": "EyixC9Ym3K44",
        "colab_type": "code",
        "outputId": "1e2d8859-5a4b-414e-8d7a-ccb54edc866b",
        "colab": {
          "base_uri": "https://localhost:8080/",
          "height": 70
        }
      },
      "source": [
        "score, acc = model.evaluate(X_test_pad, y_test_pad)\n",
        "print('Test score:', score)\n",
        "print('Test accuracy:', acc)"
      ],
      "execution_count": 0,
      "outputs": [
        {
          "output_type": "stream",
          "text": [
            "3534/3534 [==============================] - 0s 47us/step\n",
            "Test score: 1.0088342548631044\n",
            "Test accuracy: 0.6389360427856445\n"
          ],
          "name": "stdout"
        }
      ]
    },
    {
      "cell_type": "markdown",
      "metadata": {
        "id": "sYcvDVaZ3K4_",
        "colab_type": "text"
      },
      "source": [
        "###  LSTM <a id=\"lstm\"></a>"
      ]
    },
    {
      "cell_type": "code",
      "metadata": {
        "id": "q6v4IIDa3K5C",
        "colab_type": "code",
        "outputId": "0aa10da9-dbd0-4025-a307-683a91b56459",
        "colab": {
          "base_uri": "https://localhost:8080/",
          "height": 265
        }
      },
      "source": [
        "from keras.layers import LSTM\n",
        "\n",
        "embedding_dim = 32\n",
        "vocab_size = 350\n",
        "\n",
        "model = Sequential()\n",
        "\n",
        "model.add(Embedding(vocab_size, embedding_dim, input_length= max_length))\n",
        "\n",
        "model.add(LSTM(128, dropout= 0.2, recurrent_dropout= 0.2))\n",
        "\n",
        "model.add(Dense(3, activation='softmax'))\n",
        "\n",
        "model.summary()"
      ],
      "execution_count": 0,
      "outputs": [
        {
          "output_type": "stream",
          "text": [
            "Model: \"sequential_3\"\n",
            "_________________________________________________________________\n",
            "Layer (type)                 Output Shape              Param #   \n",
            "=================================================================\n",
            "embedding_3 (Embedding)      (None, 350, 32)           11200     \n",
            "_________________________________________________________________\n",
            "lstm_1 (LSTM)                (None, 128)               82432     \n",
            "_________________________________________________________________\n",
            "dense_5 (Dense)              (None, 3)                 387       \n",
            "=================================================================\n",
            "Total params: 94,019\n",
            "Trainable params: 94,019\n",
            "Non-trainable params: 0\n",
            "_________________________________________________________________\n"
          ],
          "name": "stdout"
        }
      ]
    },
    {
      "cell_type": "code",
      "metadata": {
        "id": "MC8a3UIU3K5G",
        "colab_type": "code",
        "outputId": "aaffee99-c9c2-4803-ba7f-8aee28ce95a3",
        "colab": {
          "base_uri": "https://localhost:8080/",
          "height": 445
        }
      },
      "source": [
        "from keras.optimizers import adam\n",
        "model.compile(loss= 'sparse_categorical_crossentropy',\n",
        "              optimizer= 'adam',\n",
        "              metrics=['accuracy'] )\n",
        "\n",
        "batch_size = 32\n",
        "epochs = 10\n",
        "\n",
        "history = model.fit(X_train_pad, y_train_pad, epochs=epochs, batch_size=batch_size, validation_split=0.10)  "
      ],
      "execution_count": 0,
      "outputs": [
        {
          "output_type": "stream",
          "text": [
            "/usr/local/lib/python3.6/dist-packages/tensorflow/python/framework/indexed_slices.py:434: UserWarning: Converting sparse IndexedSlices to a dense Tensor of unknown shape. This may consume a large amount of memory.\n",
            "  \"Converting sparse IndexedSlices to a dense Tensor of unknown shape. \"\n"
          ],
          "name": "stderr"
        },
        {
          "output_type": "stream",
          "text": [
            "Train on 24732 samples, validate on 2749 samples\n",
            "Epoch 1/10\n",
            "24732/24732 [==============================] - 426s 17ms/step - loss: 1.0885 - accuracy: 0.4022 - val_loss: 1.0816 - val_accuracy: 0.4249\n",
            "Epoch 2/10\n",
            "24732/24732 [==============================] - 424s 17ms/step - loss: 1.0879 - accuracy: 0.4023 - val_loss: 1.0872 - val_accuracy: 0.4249\n",
            "Epoch 3/10\n",
            "24732/24732 [==============================] - 422s 17ms/step - loss: 1.0879 - accuracy: 0.4023 - val_loss: 1.0829 - val_accuracy: 0.4249\n",
            "Epoch 4/10\n",
            "24732/24732 [==============================] - 422s 17ms/step - loss: 1.0879 - accuracy: 0.4023 - val_loss: 1.0819 - val_accuracy: 0.4249\n",
            "Epoch 5/10\n",
            "24732/24732 [==============================] - 425s 17ms/step - loss: 1.0882 - accuracy: 0.4019 - val_loss: 1.0809 - val_accuracy: 0.4249\n",
            "Epoch 6/10\n",
            "24732/24732 [==============================] - 423s 17ms/step - loss: 1.0875 - accuracy: 0.4023 - val_loss: 1.0813 - val_accuracy: 0.4249\n",
            "Epoch 7/10\n",
            "24732/24732 [==============================] - 422s 17ms/step - loss: 1.0876 - accuracy: 0.4023 - val_loss: 1.0830 - val_accuracy: 0.4249\n",
            "Epoch 8/10\n",
            "24732/24732 [==============================] - 423s 17ms/step - loss: 1.0876 - accuracy: 0.4023 - val_loss: 1.0817 - val_accuracy: 0.4249\n",
            "Epoch 9/10\n",
            "24732/24732 [==============================] - 423s 17ms/step - loss: 1.0876 - accuracy: 0.4023 - val_loss: 1.0820 - val_accuracy: 0.4249\n",
            "Epoch 10/10\n",
            "24732/24732 [==============================] - 423s 17ms/step - loss: 1.0875 - accuracy: 0.4023 - val_loss: 1.0833 - val_accuracy: 0.4249\n"
          ],
          "name": "stdout"
        }
      ]
    },
    {
      "cell_type": "code",
      "metadata": {
        "id": "wolwH7dC3K5I",
        "colab_type": "code",
        "outputId": "d34f9882-ab36-4992-f3e8-756da7594a23",
        "colab": {
          "base_uri": "https://localhost:8080/",
          "height": 334
        }
      },
      "source": [
        "plot_model(history)"
      ],
      "execution_count": 0,
      "outputs": [
        {
          "output_type": "display_data",
          "data": {
            "image/png": "[encoded data removed]",
            "text/plain": [
              "<Figure size 720x360 with 2 Axes>"
            ]
          },
          "metadata": {
            "tags": [],
            "needs_background": "light"
          }
        }
      ]
    },
    {
      "cell_type": "code",
      "metadata": {
        "id": "6qHteP0Z3K5K",
        "colab_type": "code",
        "outputId": "1949616c-79ed-4c43-f17a-c1993494e23b",
        "colab": {
          "base_uri": "https://localhost:8080/",
          "height": 70
        }
      },
      "source": [
        "score, acc = model.evaluate(X_test_pad, y_test_pad)\n",
        "print('Test score:', score)\n",
        "print('Test accuracy:', acc)"
      ],
      "execution_count": 0,
      "outputs": [
        {
          "output_type": "stream",
          "text": [
            "3534/3534 [==============================] - 6s 2ms/step\n",
            "Test score: 1.0870345914573\n",
            "Test accuracy: 0.40464064478874207\n"
          ],
          "name": "stdout"
        }
      ]
    },
    {
      "cell_type": "markdown",
      "metadata": {
        "id": "miWE1Epk3K5N",
        "colab_type": "text"
      },
      "source": [
        "### Bidirectional LSTM <a name=\"bilstm\"></a>"
      ]
    },
    {
      "cell_type": "code",
      "metadata": {
        "id": "3Yc6j5ZZ3K5P",
        "colab_type": "code",
        "outputId": "ece69a27-548c-411c-edd3-6f4ad2bb3339",
        "colab": {
          "base_uri": "https://localhost:8080/",
          "height": 301
        }
      },
      "source": [
        "from keras.layers import Bidirectional   #(X,A)*W  Number*4\n",
        "\n",
        "embedding_dim = 32\n",
        "vocab_size = 350\n",
        "\n",
        "model = Sequential()\n",
        "model.add(Embedding(vocab_size, embedding_dim, input_length= max_length))\n",
        "model.add(Bidirectional(LSTM(64)))\n",
        "model.add(Dropout(0.5))\n",
        "model.add(Dense(3, activation='softmax'))\n",
        "model.summary()"
      ],
      "execution_count": 0,
      "outputs": [
        {
          "output_type": "stream",
          "text": [
            "Model: \"sequential_4\"\n",
            "_________________________________________________________________\n",
            "Layer (type)                 Output Shape              Param #   \n",
            "=================================================================\n",
            "embedding_4 (Embedding)      (None, 350, 32)           11200     \n",
            "_________________________________________________________________\n",
            "bidirectional_1 (Bidirection (None, 128)               49664     \n",
            "_________________________________________________________________\n",
            "dropout_3 (Dropout)          (None, 128)               0         \n",
            "_________________________________________________________________\n",
            "dense_6 (Dense)              (None, 3)                 387       \n",
            "=================================================================\n",
            "Total params: 61,251\n",
            "Trainable params: 61,251\n",
            "Non-trainable params: 0\n",
            "_________________________________________________________________\n"
          ],
          "name": "stdout"
        }
      ]
    },
    {
      "cell_type": "code",
      "metadata": {
        "id": "cfRZqNh83K5a",
        "colab_type": "code",
        "outputId": "11593bbe-1ef6-4a0b-9a5d-1d48fd86a838",
        "colab": {
          "base_uri": "https://localhost:8080/",
          "height": 445
        }
      },
      "source": [
        "from keras.optimizers import adam\n",
        "model.compile(loss= 'sparse_categorical_crossentropy',\n",
        "              optimizer= 'adam',\n",
        "              metrics=['accuracy'] )\n",
        "\n",
        "batch_size = 32\n",
        "epochs = 10\n",
        "\n",
        "history = model.fit(X_train_pad, y_train_pad, epochs=epochs, batch_size=batch_size, validation_split=0.10)  "
      ],
      "execution_count": 0,
      "outputs": [
        {
          "output_type": "stream",
          "text": [
            "/usr/local/lib/python3.6/dist-packages/tensorflow/python/framework/indexed_slices.py:434: UserWarning: Converting sparse IndexedSlices to a dense Tensor of unknown shape. This may consume a large amount of memory.\n",
            "  \"Converting sparse IndexedSlices to a dense Tensor of unknown shape. \"\n"
          ],
          "name": "stderr"
        },
        {
          "output_type": "stream",
          "text": [
            "Train on 24732 samples, validate on 2749 samples\n",
            "Epoch 1/10\n",
            "24732/24732 [==============================] - 709s 29ms/step - loss: 0.8907 - accuracy: 0.5877 - val_loss: 0.8055 - val_accuracy: 0.6548\n",
            "Epoch 2/10\n",
            "24732/24732 [==============================] - 689s 28ms/step - loss: 0.7908 - accuracy: 0.6635 - val_loss: 0.7852 - val_accuracy: 0.6584\n",
            "Epoch 3/10\n",
            "24732/24732 [==============================] - 686s 28ms/step - loss: 0.7801 - accuracy: 0.6669 - val_loss: 0.7809 - val_accuracy: 0.6606\n",
            "Epoch 4/10\n",
            "24732/24732 [==============================] - 687s 28ms/step - loss: 0.7741 - accuracy: 0.6689 - val_loss: 0.7774 - val_accuracy: 0.6672\n",
            "Epoch 5/10\n",
            "24732/24732 [==============================] - 688s 28ms/step - loss: 0.7669 - accuracy: 0.6731 - val_loss: 0.7747 - val_accuracy: 0.6693\n",
            "Epoch 6/10\n",
            "24732/24732 [==============================] - 693s 28ms/step - loss: 0.7635 - accuracy: 0.6734 - val_loss: 0.7713 - val_accuracy: 0.6697\n",
            "Epoch 7/10\n",
            "24732/24732 [==============================] - 682s 28ms/step - loss: 0.7584 - accuracy: 0.6766 - val_loss: 0.7755 - val_accuracy: 0.6693\n",
            "Epoch 8/10\n",
            "24732/24732 [==============================] - 680s 28ms/step - loss: 0.7527 - accuracy: 0.6779 - val_loss: 0.7758 - val_accuracy: 0.6693\n",
            "Epoch 9/10\n",
            "24732/24732 [==============================] - 682s 28ms/step - loss: 0.7489 - accuracy: 0.6811 - val_loss: 0.7780 - val_accuracy: 0.6599\n",
            "Epoch 10/10\n",
            "24732/24732 [==============================] - 683s 28ms/step - loss: 0.7466 - accuracy: 0.6827 - val_loss: 0.7755 - val_accuracy: 0.6672\n"
          ],
          "name": "stdout"
        }
      ]
    },
    {
      "cell_type": "code",
      "metadata": {
        "id": "04yFU6nM3K5c",
        "colab_type": "code",
        "outputId": "8317afaa-e26d-4eba-b2e5-15b653a9a114",
        "colab": {
          "base_uri": "https://localhost:8080/",
          "height": 334
        }
      },
      "source": [
        "plot_model(history)"
      ],
      "execution_count": 0,
      "outputs": [
        {
          "output_type": "display_data",
          "data": {
            "image/png": "[encoded data removed]",
            "text/plain": [
              "<Figure size 720x360 with 2 Axes>"
            ]
          },
          "metadata": {
            "tags": [],
            "needs_background": "light"
          }
        }
      ]
    },
    {
      "cell_type": "code",
      "metadata": {
        "id": "3qTP3eIW3K5f",
        "colab_type": "code",
        "outputId": "03b805f3-1073-44b9-fd57-2487054a0713",
        "colab": {
          "base_uri": "https://localhost:8080/",
          "height": 70
        }
      },
      "source": [
        "score, acc = model.evaluate(X_test_pad, y_test_pad)\n",
        "print('Test score:', score)\n",
        "print('Test accuracy:', acc)"
      ],
      "execution_count": 0,
      "outputs": [
        {
          "output_type": "stream",
          "text": [
            "3534/3534 [==============================] - 10s 3ms/step\n",
            "Test score: 0.7579922645390202\n",
            "Test accuracy: 0.6683644652366638\n"
          ],
          "name": "stdout"
        }
      ]
    },
    {
      "cell_type": "markdown",
      "metadata": {
        "id": "1aynKYw-3K5i",
        "colab_type": "text"
      },
      "source": [
        "### CNN LSTM <a name=\"cnnlstm\"></a>"
      ]
    },
    {
      "cell_type": "code",
      "metadata": {
        "id": "ZF2akCJ93K5k",
        "colab_type": "code",
        "outputId": "d4353545-5c37-4e07-87c9-62b7c3cae5aa",
        "colab": {
          "base_uri": "https://localhost:8080/",
          "height": 372
        }
      },
      "source": [
        "from keras.layers import MaxPooling1D, Activation\n",
        "\n",
        "embedding_dim = 32\n",
        "vocab_size = 350\n",
        "\n",
        "model = Sequential()\n",
        "model.add(Embedding(vocab_size, embedding_dim, input_length= max_length))\n",
        "model.add(Dropout(0.25))\n",
        "model.add(Conv1D(filters = 64, kernel_size= 5, padding='valid', activation='relu', strides=1))\n",
        "model.add(MaxPooling1D(pool_size= 4))\n",
        "model.add(LSTM(70))\n",
        "model.add(Dense(3, activation='softmax'))\n",
        "model.summary()"
      ],
      "execution_count": 0,
      "outputs": [
        {
          "output_type": "stream",
          "text": [
            "Model: \"sequential_5\"\n",
            "_________________________________________________________________\n",
            "Layer (type)                 Output Shape              Param #   \n",
            "=================================================================\n",
            "embedding_5 (Embedding)      (None, 350, 32)           11200     \n",
            "_________________________________________________________________\n",
            "dropout_4 (Dropout)          (None, 350, 32)           0         \n",
            "_________________________________________________________________\n",
            "conv1d_2 (Conv1D)            (None, 346, 64)           10304     \n",
            "_________________________________________________________________\n",
            "max_pooling1d_1 (MaxPooling1 (None, 86, 64)            0         \n",
            "_________________________________________________________________\n",
            "lstm_3 (LSTM)                (None, 70)                37800     \n",
            "_________________________________________________________________\n",
            "dense_7 (Dense)              (None, 3)                 213       \n",
            "=================================================================\n",
            "Total params: 59,517\n",
            "Trainable params: 59,517\n",
            "Non-trainable params: 0\n",
            "_________________________________________________________________\n"
          ],
          "name": "stdout"
        }
      ]
    },
    {
      "cell_type": "code",
      "metadata": {
        "id": "LYl8b8JO3K5m",
        "colab_type": "code",
        "outputId": "4ba1872d-f4e5-4b53-a648-5e10d2ca0f29",
        "colab": {
          "base_uri": "https://localhost:8080/",
          "height": 445
        }
      },
      "source": [
        "from keras.optimizers import adam\n",
        "model.compile(loss= 'sparse_categorical_crossentropy',\n",
        "              optimizer= 'adam',\n",
        "              metrics=['accuracy'] )\n",
        "\n",
        "batch_size = 32\n",
        "epochs = 10\n",
        "\n",
        "history = model.fit(X_train_pad, y_train_pad, epochs=epochs, batch_size=batch_size, validation_split=0.10)  "
      ],
      "execution_count": 0,
      "outputs": [
        {
          "output_type": "stream",
          "text": [
            "/usr/local/lib/python3.6/dist-packages/tensorflow/python/framework/indexed_slices.py:434: UserWarning: Converting sparse IndexedSlices to a dense Tensor of unknown shape. This may consume a large amount of memory.\n",
            "  \"Converting sparse IndexedSlices to a dense Tensor of unknown shape. \"\n"
          ],
          "name": "stderr"
        },
        {
          "output_type": "stream",
          "text": [
            "Train on 24732 samples, validate on 2749 samples\n",
            "Epoch 1/10\n",
            "24732/24732 [==============================] - 153s 6ms/step - loss: 1.0884 - accuracy: 0.4020 - val_loss: 1.0816 - val_accuracy: 0.4249\n",
            "Epoch 2/10\n",
            "24732/24732 [==============================] - 146s 6ms/step - loss: 1.0878 - accuracy: 0.4023 - val_loss: 1.0822 - val_accuracy: 0.4249\n",
            "Epoch 3/10\n",
            "24732/24732 [==============================] - 146s 6ms/step - loss: 1.0875 - accuracy: 0.4023 - val_loss: 1.0839 - val_accuracy: 0.4249\n",
            "Epoch 4/10\n",
            "24732/24732 [==============================] - 145s 6ms/step - loss: 1.0877 - accuracy: 0.4023 - val_loss: 1.0827 - val_accuracy: 0.4249\n",
            "Epoch 5/10\n",
            "24732/24732 [==============================] - 145s 6ms/step - loss: 1.0876 - accuracy: 0.4023 - val_loss: 1.0829 - val_accuracy: 0.4249\n",
            "Epoch 6/10\n",
            "24732/24732 [==============================] - 144s 6ms/step - loss: 1.0876 - accuracy: 0.4023 - val_loss: 1.0832 - val_accuracy: 0.4249\n",
            "Epoch 7/10\n",
            "24732/24732 [==============================] - 144s 6ms/step - loss: 1.0876 - accuracy: 0.4023 - val_loss: 1.0832 - val_accuracy: 0.4249\n",
            "Epoch 8/10\n",
            "24732/24732 [==============================] - 144s 6ms/step - loss: 1.0875 - accuracy: 0.4023 - val_loss: 1.0837 - val_accuracy: 0.4249\n",
            "Epoch 9/10\n",
            "24732/24732 [==============================] - 144s 6ms/step - loss: 1.0876 - accuracy: 0.4023 - val_loss: 1.0835 - val_accuracy: 0.4249\n",
            "Epoch 10/10\n",
            "24732/24732 [==============================] - 143s 6ms/step - loss: 1.0875 - accuracy: 0.4023 - val_loss: 1.0828 - val_accuracy: 0.4249\n"
          ],
          "name": "stdout"
        }
      ]
    },
    {
      "cell_type": "code",
      "metadata": {
        "id": "r5k6Ee7W3K5o",
        "colab_type": "code",
        "outputId": "5ce19f47-22b4-4df4-c916-6e13508ee52f",
        "colab": {
          "base_uri": "https://localhost:8080/",
          "height": 334
        }
      },
      "source": [
        "plot_model(history)"
      ],
      "execution_count": 0,
      "outputs": [
        {
          "output_type": "display_data",
          "data": {
            "image/png": "[encoded data removed]",
            "text/plain": [
              "<Figure size 720x360 with 2 Axes>"
            ]
          },
          "metadata": {
            "tags": [],
            "needs_background": "light"
          }
        }
      ]
    },
    {
      "cell_type": "code",
      "metadata": {
        "id": "NDaO4Za63K5r",
        "colab_type": "code",
        "outputId": "067ef230-ee76-480e-fd1d-8252f7666e58",
        "colab": {
          "base_uri": "https://localhost:8080/",
          "height": 70
        }
      },
      "source": [
        "score, acc = model.evaluate(X_test_pad, y_test_pad)\n",
        "print('Test score:', score)\n",
        "print('Test accuracy:', acc)"
      ],
      "execution_count": 0,
      "outputs": [
        {
          "output_type": "stream",
          "text": [
            "3534/3534 [==============================] - 2s 514us/step\n",
            "Test score: 1.0869010694295456\n",
            "Test accuracy: 0.40464064478874207\n"
          ],
          "name": "stdout"
        }
      ]
    },
    {
      "cell_type": "markdown",
      "metadata": {
        "id": "zH6JuVH53K5v",
        "colab_type": "text"
      },
      "source": [
        "### Reference <a name=\"ref\"></a>\n",
        "\n",
        "https://keras.io/examples/imdb_cnn/"
      ]
    }
  ]
}